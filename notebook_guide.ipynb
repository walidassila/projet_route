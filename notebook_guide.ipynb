{
  "nbformat": 4,
  "nbformat_minor": 0,
  "metadata": {
    "colab": {
      "provenance": [],
      "gpuType": "T4"
    },
    "kernelspec": {
      "name": "python3",
      "display_name": "Python 3"
    },
    "language_info": {
      "name": "python"
    },
    "accelerator": "GPU"
  },
  "cells": [
    {
      "cell_type": "markdown",
      "source": [
        "# 🏗️ Projet : Détection et suivi des objets dans des vidéos\n"
      ],
      "metadata": {
        "id": "Oafmbx0NO_jW"
      }
    },
    {
      "cell_type": "code",
      "source": [
        "## Very important: change the runtime type to use a T4 GPU.\n",
        "\n",
        "#import your model.pt and your vedeos\n",
        "\n"
      ],
      "metadata": {
        "id": "ZTs--f9VtBhX"
      },
      "execution_count": 23,
      "outputs": []
    },
    {
      "cell_type": "code",
      "source": [
        "cd /content"
      ],
      "metadata": {
        "colab": {
          "base_uri": "https://localhost:8080/"
        },
        "id": "Hq5i73iC0fPU",
        "outputId": "de612b5f-6da0-476c-b065-e2fde9c18d00"
      },
      "execution_count": 34,
      "outputs": [
        {
          "output_type": "stream",
          "name": "stdout",
          "text": [
            "/content\n"
          ]
        }
      ]
    },
    {
      "cell_type": "markdown",
      "source": [
        "# 📥 Cloner le dépôt GitHub du projet\n",
        "\n",
        "Pour récupérer **tous les fichiers du projet** directement dans Colab, utilisez la commande suivante :\n",
        "\n",
        "```python\n",
        "!git clone https://github.com/walidassila/projet_route.git\n"
      ],
      "metadata": {
        "id": "tmpPVe8iOXQI"
      }
    },
    {
      "cell_type": "code",
      "source": [
        "!git clone https://github.com/walidassila/projet_route.git\n",
        "\n"
      ],
      "metadata": {
        "colab": {
          "base_uri": "https://localhost:8080/"
        },
        "id": "_kCfTXA_6nQV",
        "outputId": "12a924ca-072e-4a78-899c-7b84f50e92d2"
      },
      "execution_count": 22,
      "outputs": [
        {
          "output_type": "stream",
          "name": "stdout",
          "text": [
            "Cloning into 'projet_route'...\n",
            "remote: Enumerating objects: 633, done.\u001b[K\n",
            "remote: Counting objects: 100% (125/125), done.\u001b[K\n",
            "remote: Compressing objects: 100% (73/73), done.\u001b[K\n",
            "remote: Total 633 (delta 80), reused 91 (delta 51), pack-reused 508 (from 1)\u001b[K\n",
            "Receiving objects: 100% (633/633), 77.05 MiB | 44.48 MiB/s, done.\n",
            "Resolving deltas: 100% (293/293), done.\n"
          ]
        }
      ]
    },
    {
      "cell_type": "code",
      "source": [
        "cd /content/projet_route"
      ],
      "metadata": {
        "colab": {
          "base_uri": "https://localhost:8080/"
        },
        "id": "KpXXZaPHIcOE",
        "outputId": "3e9befac-2c14-4fa9-aac9-5c551f774e1e"
      },
      "execution_count": 24,
      "outputs": [
        {
          "output_type": "stream",
          "name": "stdout",
          "text": [
            "/content/projet_route\n"
          ]
        }
      ]
    },
    {
      "cell_type": "markdown",
      "source": [
        "# ⚠️ Important ! Installation obligatoire ⚠️\n",
        "\n",
        "Pour que ce notebook fonctionne correctement, **vous devez installer toutes les bibliothèques et dépendances** listées dans le fichier `requirements.txt` :\n",
        "\n",
        "```python\n",
        "!pip install -r requirements.txt\n"
      ],
      "metadata": {
        "id": "72viyyD3NgzO"
      }
    },
    {
      "cell_type": "code",
      "source": [
        "# Installer les bibliothèques et les dépendances nécessaires **OBLIGATOIRE\n",
        "\n",
        "!pip install -r requirements.txt\n"
      ],
      "metadata": {
        "id": "a2Ai5z_coZBS"
      },
      "execution_count": null,
      "outputs": []
    },
    {
      "cell_type": "markdown",
      "source": [
        "# 🛠️ Ajouter le dossier ByteTrack au chemin Python\n",
        "\n",
        "Pour que Python puisse **trouver les modules du dossier `ByteTrack`**, il faut ajouter ce chemin au `sys.path` :\n",
        "\n",
        "```python\n",
        "import sys\n",
        "\n",
        "# Ajouter le dossier ByteTrack du projet au chemin Python\n",
        "sys.path.append('/content/projet_route/ByteTrack')\n"
      ],
      "metadata": {
        "id": "locXR6cMOGOF"
      }
    },
    {
      "cell_type": "code",
      "source": [
        "import sys\n",
        "sys.path.append('/content/projet_route/ByteTrack')\n"
      ],
      "metadata": {
        "id": "jmVEVkz0Dspp"
      },
      "execution_count": 27,
      "outputs": []
    },
    {
      "cell_type": "markdown",
      "source": [
        "# 🚀 Exemple d'utilisation du script de traitement vidéo\n",
        "\n",
        "Ce bloc montre comment utiliser les fonctions `load_model` et `process_video` pour traiter une vidéo avec les classes, couleurs et options de tracking personnalisées.\n",
        "\n",
        "```python\n",
        "from video_processing import process_video\n",
        "from model_utils import load_model\n",
        "\n",
        "# -------------------------------\n",
        "# Chemins et modèle\n",
        "# -------------------------------\n",
        "model_path = \"model_path\"        # obligatoire : chemin vers le modèle\n",
        "model = load_model(model_path)   # charger le modèle\n",
        "\n",
        "video_path = \"video_path\"        # obligatoire : chemin vers la vidéo\n",
        "output_folder = \"output_folder\"  # optionnel : dossier de sortie\n",
        "\n",
        "# -------------------------------\n",
        "# Paramètres de détection\n",
        "# -------------------------------\n",
        "confiance = 0.4  # optionnel : seuil de confiance entre 0 et 1\n",
        "\n",
        "# Noms des classes (optionnel, pour remplacer les noms par des abréviations)\n",
        "class_name = {\n",
        "    \"faiencage\": \"Fai\",\n",
        "    \"fissure longitudinal\": \"FL\",\n",
        "    \"fissure-transversal\": \"FT\",\n",
        "    \"nid de poul\": \"NP\",\n",
        "    \"ornierage\": \"Or\",\n",
        "    \"pelade\": \"Pe\",\n",
        "    \"plumage\": \"Pl\",\n",
        "    \"ressuage\": \"Re\"\n",
        "}\n",
        "\n",
        "# Couleurs associées à chaque classe (optionnel)\n",
        "colors = {\n",
        "    \"faiencage\": (255, 0, 0),\n",
        "    \"fissure longitudinal\": (255, 0, 0),\n",
        "    \"fissure-transversal\": (28, 193, 156),\n",
        "    \"nid de poul\": (0, 0, 0),\n",
        "    \"ornierage\": (255, 0, 255),\n",
        "    \"pelade\": (0, 255, 255)\n",
        "}\n",
        "\n",
        "# Paramètres du tracker (optionnel)\n",
        "tracker = {\n",
        "    \"track_thresh\": 0.4,\n",
        "    \"track_buffer\": 0,\n",
        "    \"match_thresh\": 0.8,\n",
        "    \"min_box_area\": 10,\n",
        "    \"mot20\": False\n",
        "}\n",
        "\n",
        "# -------------------------------\n",
        "# Traitement vidéo\n",
        "# -------------------------------\n",
        "# Version complète avec tous les paramètres\n",
        "process_video(\n",
        "    model,\n",
        "    video_path=video_path,\n",
        "    output_folder=output_folder,\n",
        "    conf=confiance,\n",
        "    class_colors=colors,\n",
        "    class_names=class_name,\n",
        "    tracker=tracker\n",
        ")\n",
        "\n",
        "# Version minimale (seulement vidéo et modèle)\n",
        "process_video(model, video_path=video_path)\n"
      ],
      "metadata": {
        "id": "SMwUThZaNF7N"
      }
    },
    {
      "cell_type": "code",
      "source": [
        "from video_processing import process_video\n",
        "from model_utils import load_model\n",
        "\n",
        "model_path=r\"/content/best.pt\"\n",
        "video_path=r\"/content/tri0.mp4\"\n",
        "\n",
        "model=load_model(model_path)\n",
        "process_video(model,video_path,conf=0.3)\n"
      ],
      "metadata": {
        "colab": {
          "base_uri": "https://localhost:8080/"
        },
        "id": "tMYKOeNipiOP",
        "outputId": "10ab9427-dc7a-4856-a9fe-0dd4cd9a5aa5"
      },
      "execution_count": 33,
      "outputs": [
        {
          "output_type": "stream",
          "name": "stdout",
          "text": [
            "Model summary (fused): 92 layers, 25,844,392 parameters, 0 gradients, 78.7 GFLOPs\n"
          ]
        },
        {
          "output_type": "stream",
          "name": "stderr",
          "text": [
            "📦 Traitement: 100%|██████████| 1579/1579 [00:32<00:00, 48.09frame/s]\n"
          ]
        },
        {
          "output_type": "stream",
          "name": "stdout",
          "text": [
            "Resultat finale créée ici : /content/projet_route/result_tri0_processed.zip\n"
          ]
        }
      ]
    }
  ]
}