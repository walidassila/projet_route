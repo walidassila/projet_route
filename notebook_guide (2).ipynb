{
  "cells": [
    {
      "cell_type": "markdown",
      "metadata": {
        "colab_type": "text",
        "id": "view-in-github"
      },
      "source": [
        "<a href=\"https://colab.research.google.com/github/walidassila/projet_route/blob/master/notebook_guide.ipynb\" target=\"_parent\"><img src=\"https://colab.research.google.com/assets/colab-badge.svg\" alt=\"Open In Colab\"/></a>"
      ]
    },
    {
      "cell_type": "markdown",
      "metadata": {
        "id": "Oafmbx0NO_jW"
      },
      "source": [
        "# 🏗️ Projet : Détection et suivi des objets dans des vidéos\n"
      ]
    },
    {
      "cell_type": "code",
      "execution_count": 23,
      "metadata": {
        "id": "ZTs--f9VtBhX"
      },
      "outputs": [],
      "source": [
        "## Very important: change the runtime type to use a T4 GPU.\n",
        "\n",
        "#import your model.pt and your vedeos\n",
        "\n"
      ]
    },
    {
      "cell_type": "code",
      "execution_count": 34,
      "metadata": {
        "colab": {
          "base_uri": "https://localhost:8080/"
        },
        "id": "Hq5i73iC0fPU",
        "outputId": "de612b5f-6da0-476c-b065-e2fde9c18d00"
      },
      "outputs": [
        {
          "name": "stdout",
          "output_type": "stream",
          "text": [
            "/content\n"
          ]
        }
      ],
      "source": [
        "cd /content"
      ]
    },
    {
      "cell_type": "markdown",
      "metadata": {
        "id": "tmpPVe8iOXQI"
      },
      "source": [
        "# 📥 Cloner le dépôt GitHub du projet\n",
        "\n",
        "Pour récupérer **tous les fichiers du projet** directement dans Colab, utilisez la commande suivante :\n"
      ]
    },
    {
      "cell_type": "code",
      "execution_count": 22,
      "metadata": {
        "colab": {
          "base_uri": "https://localhost:8080/"
        },
        "id": "_kCfTXA_6nQV",
        "outputId": "12a924ca-072e-4a78-899c-7b84f50e92d2"
      },
      "outputs": [
        {
          "name": "stdout",
          "output_type": "stream",
          "text": [
            "Cloning into 'projet_route'...\n",
            "remote: Enumerating objects: 633, done.\u001b[K\n",
            "remote: Counting objects: 100% (125/125), done.\u001b[K\n",
            "remote: Compressing objects: 100% (73/73), done.\u001b[K\n",
            "remote: Total 633 (delta 80), reused 91 (delta 51), pack-reused 508 (from 1)\u001b[K\n",
            "Receiving objects: 100% (633/633), 77.05 MiB | 44.48 MiB/s, done.\n",
            "Resolving deltas: 100% (293/293), done.\n"
          ]
        }
      ],
      "source": [
        "!git clone https://github.com/walidassila/projet_route.git\n",
        "\n"
      ]
    },
    {
      "cell_type": "code",
      "execution_count": 24,
      "metadata": {
        "colab": {
          "base_uri": "https://localhost:8080/"
        },
        "id": "KpXXZaPHIcOE",
        "outputId": "3e9befac-2c14-4fa9-aac9-5c551f774e1e"
      },
      "outputs": [
        {
          "name": "stdout",
          "output_type": "stream",
          "text": [
            "/content/projet_route\n"
          ]
        }
      ],
      "source": [
        "cd /content/projet_route"
      ]
    },
    {
      "cell_type": "markdown",
      "metadata": {
        "id": "72viyyD3NgzO"
      },
      "source": [
        "# ⚠️ Important ! Installation obligatoire ⚠️\n",
        "\n",
        "Pour que ce notebook fonctionne correctement, **vous devez installer toutes les bibliothèques et dépendances** listées dans le fichier `requirements.txt` :\n",
        "\n",
        "\n"
      ]
    },
    {
      "cell_type": "code",
      "execution_count": null,
      "metadata": {
        "id": "a2Ai5z_coZBS"
      },
      "outputs": [],
      "source": [
        "# Installer les bibliothèques et les dépendances nécessaires **OBLIGATOIRE\n",
        "\n",
        "!pip install -r requirements.txt\n"
      ]
    },
    {
      "cell_type": "markdown",
      "metadata": {
        "id": "locXR6cMOGOF"
      },
      "source": [
        "# 🛠️ Ajouter le dossier ByteTrack au chemin Python\n",
        "\n",
        "Pour que Python puisse **trouver les modules du dossier `ByteTrack`**, il faut ajouter ce chemin au `sys.path` :\n",
        "\n"
      ]
    },
    {
      "cell_type": "code",
      "execution_count": 27,
      "metadata": {
        "id": "jmVEVkz0Dspp"
      },
      "outputs": [],
      "source": [
        "import sys\n",
        "sys.path.append('/content/projet_route/ByteTrack')\n"
      ]
    },
    {
      "cell_type": "markdown",
      "metadata": {
        "id": "SMwUThZaNF7N"
      },
      "source": [
        "# 🚀 Exemple d'utilisation du script de traitement vidéo\n",
        "\n",
        "Ce bloc montre comment utiliser les fonctions `load_model` et `process_video` pour traiter une vidéo avec les classes, couleurs et options de tracking personnalisées.\n",
        "\n",
        "```python\n",
        "from video_processing import process_video\n",
        "from model_utils import load_model\n",
        "\n",
        "# -------------------------------\n",
        "# Chemins et modèle\n",
        "# -------------------------------\n",
        "model_path = \"model_path\"        # obligatoire : chemin vers le modèle\n",
        "model = load_model(model_path)   # charger le modèle\n",
        "\n",
        "video_path = \"video_path\"        # obligatoire : chemin vers la vidéo\n",
        "output_folder = \"output_folder\"  # optionnel : dossier de sortie\n",
        "\n",
        "# -------------------------------\n",
        "# Paramètres de détection\n",
        "# -------------------------------\n",
        "confiance = 0.4  # optionnel : seuil de confiance entre 0 et 1\n",
        "\n",
        "# Noms des classes (optionnel, pour remplacer les noms par des abréviations)\n",
        "class_name = {\n",
        "    \"faiencage\": \"Fai\",\n",
        "    \"fissure longitudinal\": \"FL\",\n",
        "    \"fissure-transversal\": \"FT\",\n",
        "    \"nid de poul\": \"NP\",\n",
        "    \"ornierage\": \"Or\",\n",
        "    \"pelade\": \"Pe\",\n",
        "    \"plumage\": \"Pl\",\n",
        "    \"ressuage\": \"Re\"\n",
        "}\n",
        "\n",
        "# Couleurs associées à chaque classe (optionnel)\n",
        "colors = {\n",
        "    \"faiencage\": (255, 0, 0),\n",
        "    \"fissure longitudinal\": (255, 0, 0),\n",
        "    \"fissure-transversal\": (28, 193, 156),\n",
        "    \"nid de poul\": (0, 0, 0),\n",
        "    \"ornierage\": (255, 0, 255),\n",
        "    \"pelade\": (0, 255, 255)\n",
        "}\n",
        "\n",
        "# Paramètres du tracker (optionnel)\n",
        "tracker = {\n",
        "    \"track_thresh\": 0.4,\n",
        "    \"track_buffer\": 0,\n",
        "    \"match_thresh\": 0.8,\n",
        "    \"min_box_area\": 10,\n",
        "    \"mot20\": False\n",
        "}\n",
        "\n",
        "# -------------------------------\n",
        "# Traitement vidéo\n",
        "# -------------------------------\n",
        "# Version complète avec tous les paramètres\n",
        "process_video(\n",
        "    model,\n",
        "    video_path=video_path,\n",
        "    output_folder=output_folder,\n",
        "    conf=confiance,\n",
        "    class_colors=colors,\n",
        "    class_names=class_name,\n",
        "    tracker=tracker\n",
        ")\n",
        "\n",
        "# Version minimale (seulement vidéo et modèle)\n",
        "process_video(model, video_path=video_path)\n"
      ]
    },
    {
      "cell_type": "code",
      "execution_count": 33,
      "metadata": {
        "colab": {
          "base_uri": "https://localhost:8080/"
        },
        "id": "tMYKOeNipiOP",
        "outputId": "10ab9427-dc7a-4856-a9fe-0dd4cd9a5aa5"
      },
      "outputs": [
        {
          "name": "stdout",
          "output_type": "stream",
          "text": [
            "Model summary (fused): 92 layers, 25,844,392 parameters, 0 gradients, 78.7 GFLOPs\n"
          ]
        },
        {
          "name": "stderr",
          "output_type": "stream",
          "text": [
            "📦 Traitement: 100%|██████████| 1579/1579 [00:32<00:00, 48.09frame/s]\n"
          ]
        },
        {
          "name": "stdout",
          "output_type": "stream",
          "text": [
            "Resultat finale créée ici : /content/projet_route/result_tri0_processed.zip\n"
          ]
        }
      ],
      "source": [
        "from video_processing import process_video\n",
        "from model_utils import load_model\n",
        "\n",
        "model_path=r\"/content/best.pt\"\n",
        "video_path=r\"/content/tri0.mp4\"\n",
        "\n",
        "model=load_model(model_path)\n",
        "process_video(model,video_path,conf=0.3)\n"
      ]
    }
  ],
  "metadata": {
    "accelerator": "GPU",
    "colab": {
      "gpuType": "T4",
      "include_colab_link": true,
      "provenance": []
    },
    "kernelspec": {
      "display_name": "Python 3",
      "name": "python3"
    },
    "language_info": {
      "name": "python"
    }
  },
  "nbformat": 4,
  "nbformat_minor": 0
}
